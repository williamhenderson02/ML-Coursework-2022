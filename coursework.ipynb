{
 "cells": [
  {
   "cell_type": "code",
   "execution_count": 1,
   "metadata": {},
   "outputs": [],
   "source": [
    "#missing values have value ? all for attribute 11\n",
    "\n",
    "#either edible, poisonous or unknown. Unknowm and poisonous grouped together\n",
    "\n",
    "#to deal with missing values use 'classifier' or 'regressor' based on values that arent missing to predict missing values in\n",
    "#preprocessing. Be careful that vlaues using to predict arent overfitted. Compare to other methods such as removing entire attribute\n",
    "#or giving deafult/mean value\n",
    "\n",
    "\n",
    "from sklearn import metrics\n",
    "from sklearn import model_selection\n",
    "from sklearn import ensemble\n",
    "import numpy as np\n",
    "import pandas as pd\n",
    "import seaborn as sns\n",
    "from matplotlib import pyplot as plt"
   ]
  },
  {
   "cell_type": "code",
   "execution_count": 50,
   "metadata": {},
   "outputs": [],
   "source": [
    "# read contents of data file\n",
    "file = pd.read_csv(\"agaricus-lepiota.data\")\n",
    "  \n",
    "# create list to be used as headers\n",
    "features = ['edibility', 'capShape', 'capSurface', 'capColor', 'bruises', 'odor', \n",
    "            'gillAttachment', 'gillSpacing', 'gillSize', 'gillColor', \n",
    "            'stalkShape', 'stalkRoot', 'stalkSurfaceAboveRing', 'stalkSurfaceBelowRing', \n",
    "            'stalkColorAboveRing', 'stalkColorBelowRing', 'veilType', 'veilColor', \n",
    "            'ringNumber', 'ringType', 'sporePrintColor', 'population', 'habitat']\n",
    "  \n",
    "# converting data frame to csv\n",
    "file.to_csv(\"agaricus-lepiota.csv\", header=features, index=False)\n",
    "\n",
    "data = pd.read_csv(\"agaricus-lepiota.csv\")\n",
    "\n",
    "#result = data.head(10)\n",
    "#print(data)\n",
    "#print(result)"
   ]
  },
  {
   "cell_type": "code",
   "execution_count": 39,
   "metadata": {},
   "outputs": [],
   "source": [
    "#removes column with missing values which in our data is only stalkRoot\n",
    "#one way to deal with missing values\n",
    "data = data.drop('stalkRoot', axis = 1)\n",
    "\n",
    "data.to_csv(\"agaricus-lepiota-no-stalkRoot.csv\")\n",
    "\n",
    "#print(data.head(10))"
   ]
  },
  {
   "cell_type": "code",
   "execution_count": 51,
   "metadata": {},
   "outputs": [
    {
     "name": "stdout",
     "output_type": "stream",
     "text": [
      "(8123, 23)\n",
      "(5643, 23)\n"
     ]
    }
   ],
   "source": [
    "#removes all rows that have missing values\n",
    "print(data.shape)\n",
    "data.drop(data.loc[data['stalkRoot']=='?'].index, inplace=True)\n",
    "\n",
    "#shows we lose alot of data as about 2500 rows lost\n",
    "#bad way of handling missing values\n",
    "print(data.shape)\n",
    "\n",
    "data.to_csv(\"agaricus-lepiota-missing-no-?.csv\")"
   ]
  },
  {
   "cell_type": "code",
   "execution_count": null,
   "metadata": {},
   "outputs": [],
   "source": [
    "#now replace ? missing values with predicted value from a classifier\n"
   ]
  }
 ],
 "metadata": {
  "kernelspec": {
   "display_name": "Python 3.9.12 ('base')",
   "language": "python",
   "name": "python3"
  },
  "language_info": {
   "codemirror_mode": {
    "name": "ipython",
    "version": 3
   },
   "file_extension": ".py",
   "mimetype": "text/x-python",
   "name": "python",
   "nbconvert_exporter": "python",
   "pygments_lexer": "ipython3",
   "version": "3.9.12"
  },
  "orig_nbformat": 4,
  "vscode": {
   "interpreter": {
    "hash": "40d3a090f54c6569ab1632332b64b2c03c39dcf918b08424e98f38b5ae0af88f"
   }
  }
 },
 "nbformat": 4,
 "nbformat_minor": 2
}
