{
 "cells": [
  {
   "cell_type": "code",
   "execution_count": 6,
   "metadata": {},
   "outputs": [],
   "source": [
    "#missing values have value ? all for attribute 11\n",
    "\n",
    "#either edible, poisonous or unknown. Unknowm and poisonous grouped together\n",
    "\n",
    "#to deal with missing values use 'classifier' or 'regressor' based on values that arent missing to predict missing values in\n",
    "#preprocessing. Be careful that vlaues using to predict arent overfitted. Compare to other methods such as removing entire attribute\n",
    "#or giving deafult/mean value\n",
    "\n",
    "from sklearn import metrics\n",
    "from sklearn import model_selection\n",
    "from sklearn import ensemble\n",
    "from sklearn.decomposition import PCA\n",
    "from sklearn.manifold import TSNE\n",
    "from sklearn.ensemble import RandomForestRegressor\n",
    "from sklearn.preprocessing import LabelEncoder\n",
    "from sklearn.preprocessing import StandardScaler\n",
    "\n",
    "import numpy as np\n",
    "import pandas as pd\n",
    "import seaborn as sns\n",
    "\n",
    "from matplotlib import pyplot as plt\n",
    "\n",
    "import umap.umap_ as umap"
   ]
  },
  {
   "cell_type": "code",
   "execution_count": 7,
   "metadata": {},
   "outputs": [],
   "source": [
    "# read contents of data file\n",
    "file = pd.read_csv(\"agaricus-lepiota.data\")\n",
    "  \n",
    "# create list to be used as headers\n",
    "features = ['edibility', 'capShape', 'capSurface', 'capColor', 'bruises', 'odor', \n",
    "            'gillAttachment', 'gillSpacing', 'gillSize', 'gillColor', \n",
    "            'stalkShape', 'stalkRoot', 'stalkSurfaceAboveRing', 'stalkSurfaceBelowRing', \n",
    "            'stalkColorAboveRing', 'stalkColorBelowRing', 'veilType', 'veilColor', \n",
    "            'ringNumber', 'ringType', 'sporePrintColor', 'population', 'habitat']\n",
    "\n",
    "#convert '?' to NaN\n",
    "file.replace({'?': np.nan}, inplace=True)\n",
    "\n",
    "# converting data frame to csv\n",
    "file.to_csv(\"agaricus-lepiota.csv\", header=features, index=False)\n",
    "\n",
    "data = pd.read_csv(\"agaricus-lepiota.csv\")\n",
    "\n",
    "#result = data.head(10)\n",
    "#print(data)\n",
    "#print(result)"
   ]
  },
  {
   "cell_type": "code",
   "execution_count": 99,
   "metadata": {},
   "outputs": [
    {
     "name": "stdout",
     "output_type": "stream",
     "text": [
      "(8123, 23)\n",
      "(8123, 22)\n"
     ]
    }
   ],
   "source": [
    "#removes column with missing values which in our data is only stalkRoot\n",
    "#one way to deal with missing values\n",
    "print(data.shape)\n",
    "\n",
    "data = data.drop('stalkRoot', axis = 1)\n",
    "\n",
    "print(data.shape)\n",
    "\n",
    "data.to_csv(\"agaricus-lepiota-no-stalkRoot.csv\")\n",
    "\n",
    "#print(data.head(10))"
   ]
  },
  {
   "cell_type": "code",
   "execution_count": 101,
   "metadata": {},
   "outputs": [
    {
     "name": "stdout",
     "output_type": "stream",
     "text": [
      "(8123, 23)\n",
      "(5643, 23)\n"
     ]
    }
   ],
   "source": [
    "#removes all rows that have missing values\n",
    "print(data.shape)\n",
    "\n",
    "data = data.dropna(axis = 0).reset_index(drop=True)\n",
    " \n",
    "#shows we lose alot of data as 2480 rows lost\n",
    "#bad way of handling missing values\n",
    "print(data.shape)\n",
    "\n",
    "data.to_csv(\"agaricus-lepiota-NaN-removed.csv\")"
   ]
  },
  {
   "cell_type": "code",
   "execution_count": 8,
   "metadata": {},
   "outputs": [],
   "source": [
    "#use label encoding on all featres that are categorical\n",
    "#OneHot encoding not applicable as there are a high number of categories\n",
    "le = LabelEncoder()\n",
    "\n",
    "data['edibility'] = le.fit_transform(data['edibility'])\n",
    "data['capShape'] = le.fit_transform(data['capShape'])\n",
    "data['capSurface'] = le.fit_transform(data['capSurface'])\n",
    "data['capColor'] = le.fit_transform(data['capColor'])\n",
    "data['bruises'] = le.fit_transform(data['bruises'])\n",
    "data['odor'] = le.fit_transform(data['odor'])\n",
    "data['gillAttachment'] = le.fit_transform(data['gillAttachment'])\n",
    "data['gillSpacing'] = le.fit_transform(data['gillSpacing'])\n",
    "data['gillSize'] = le.fit_transform(data['gillSize'])\n",
    "data['gillColor'] = le.fit_transform(data['gillColor'])\n",
    "data['stalkShape'] = le.fit_transform(data['stalkShape'])\n",
    "data['stalkRoot'] = le.fit_transform(data['stalkRoot'])\n",
    "data['stalkSurfaceAboveRing'] = le.fit_transform(data['stalkSurfaceAboveRing'])\n",
    "data['stalkSurfaceBelowRing'] = le.fit_transform(data['stalkSurfaceBelowRing'])\n",
    "data['stalkColorAboveRing'] = le.fit_transform(data['stalkColorAboveRing'])\n",
    "data['stalkColorBelowRing'] = le.fit_transform(data['stalkColorBelowRing'])\n",
    "data['veilType'] = le.fit_transform(data['veilType'])\n",
    "data['veilColor'] = le.fit_transform(data['veilColor'])\n",
    "data['ringNumber'] = le.fit_transform(data['ringNumber'])\n",
    "data['ringType'] = le.fit_transform(data['ringType'])\n",
    "data['sporePrintColor'] = le.fit_transform(data['sporePrintColor'])\n",
    "data['population'] = le.fit_transform(data['population'])\n",
    "data['habitat'] = le.fit_transform(data['habitat'])\n",
    "\n",
    "data.to_csv(\"agaricus-lepiota-encoded.csv\")"
   ]
  },
  {
   "cell_type": "code",
   "execution_count": 9,
   "metadata": {},
   "outputs": [],
   "source": [
    "#predict missing values for stalkRoot\n",
    "train_data = data[data['stalkRoot']!= 4].copy()\n",
    "test_data = data[data['stalkRoot'] == 4].copy()\n",
    "\n",
    "X_train = train_data.drop('stalkRoot', axis = 1)\n",
    "y_train = train_data['stalkRoot']\n",
    "\n",
    "X_test = test_data.drop('stalkRoot', axis = 1)\n",
    "\n",
    "rfc = RandomForestRegressor()\n",
    "\n",
    "rfc.fit(X_train,y_train)\n",
    "y_pred = rfc.predict(X_test)\n",
    "\n",
    "rounded_data = (np.rint(y_pred)).astype(int)\n",
    "test_data['stalkRoot'] = rounded_data\n",
    "\n",
    "test_data.to_csv(\"predicted-missing-values.csv\")\n",
    "\n",
    "frames = [train_data, test_data]\n",
    "treated_data = pd.concat(frames)\n",
    "\n",
    "X = treated_data.drop('edibility', axis = 1)\n",
    "y = treated_data['edibility']\n",
    "\n",
    "data_scaled = StandardScaler().fit_transform(X)\n",
    "\n",
    "treated_data.to_csv(\"full-data.csv\")"
   ]
  },
  {
   "cell_type": "code",
   "execution_count": null,
   "metadata": {},
   "outputs": [],
   "source": [
    "#data visualisation pca\n",
    "#a linear method so less complex than tsne thus takes much less time\n",
    "#not very useful for our dataset I dont think as shown by the explained variance and scree plot\n",
    "pca = PCA()\n",
    "pca_features = pca.fit_transform(data_scaled)\n",
    "\n",
    "per_var = np.round(pca.explained_variance_ratio_*100, decimals = 1)\n",
    "print(per_var)\n",
    "labels = ['PC' + str(x) for x in range(1, len(per_var)+1)]\n",
    "\n",
    "#to be seen on a 2D-plot we can only use PC1 and PC2 which gives us the highest explained variance but still very low\n",
    "#around 19% + 12% = 31% explained variance which is bad\n",
    "plt.bar(x= range(1,len(per_var)+1), height = per_var, tick_label = labels)\n",
    "plt.show()\n",
    "\n",
    "pca_df = pd.DataFrame({'pca_1': pca_features[:,0], 'pca_2': pca_features[:,1], 'label': treated_data['edibility']})\n",
    "print(pca_df)\n",
    "\n",
    "sns.scatterplot(x = 'pca_1', y = 'pca_2', hue = 'label', data = pca_df)\n",
    "\n",
    "plt.show()"
   ]
  },
  {
   "cell_type": "code",
   "execution_count": null,
   "metadata": {},
   "outputs": [],
   "source": [
    "#data visualisation t-sne\n",
    "#unlike pca its not linear so much more complex and better for our data I think\n",
    "#result of t-sne greatly affected by 'perplexity' hyperparameter\n",
    "#try perplexity values in the range 5-100 default is 30. Higher perplexity takes longer but may be better\n",
    "n_components = 2\n",
    "tsne = TSNE(n_components, perplexity=100)\n",
    "tsne_features = tsne.fit_transform(data_scaled)\n",
    "\n",
    "tsne_df = pd.DataFrame({'tsne_1': tsne_features[:,0], 'tsne_2': tsne_features[:,1], 'label': treated_data['edibility']})\n",
    "\n",
    "sns.scatterplot(x = 'tsne_1', y = 'tsne_2', hue = 'label', data = tsne_df)\n",
    "\n",
    "plt.show()"
   ]
  },
  {
   "cell_type": "code",
   "execution_count": null,
   "metadata": {},
   "outputs": [],
   "source": [
    "#data visualisation UMAP\n",
    "#UMAP works very similarly to tsne but get more efficient for higher volumes of data\n",
    "#result greatly affected by n_neighbors and min_dist hyperparameters\n",
    "#for n_neighbors try range 5-100 and min_dist 0.1-1\n",
    "fit = umap.UMAP(\n",
    "    n_neighbors=15,\n",
    "    min_dist=0.1,\n",
    "    n_components=2,\n",
    "    metric = 'correlation'\n",
    ")\n",
    "\n",
    "umap_features = fit.fit_transform(data_scaled)\n",
    "\n",
    "umap_df = pd.DataFrame({'umap_1': umap_features[:,0], 'umap_2': umap_features[:,1], 'label': treated_data['edibility']})\n",
    "\n",
    "sns.scatterplot(x = 'umap_1', y = 'umap_2', hue = 'label', data = umap_df)\n",
    "\n",
    "plt.show()"
   ]
  }
 ],
 "metadata": {
  "kernelspec": {
   "display_name": "Python 3",
   "language": "python",
   "name": "python3"
  },
  "language_info": {
   "codemirror_mode": {
    "name": "ipython",
    "version": 3
   },
   "file_extension": ".py",
   "mimetype": "text/x-python",
   "name": "python",
   "nbconvert_exporter": "python",
   "pygments_lexer": "ipython3",
   "version": "3.10.8"
  },
  "orig_nbformat": 4,
  "vscode": {
   "interpreter": {
    "hash": "aee8b7b246df8f9039afb4144a1f6fd8d2ca17a180786b69acc140d282b71a49"
   }
  }
 },
 "nbformat": 4,
 "nbformat_minor": 2
}
